{
  "nbformat": 4,
  "nbformat_minor": 0,
  "metadata": {
    "colab": {
      "name": "BodyTemperature11_simulate.ipynb",
      "provenance": [],
      "collapsed_sections": []
    },
    "kernelspec": {
      "name": "python3",
      "display_name": "Python 3"
    }
  },
  "cells": [
    {
      "cell_type": "markdown",
      "metadata": {
        "id": "1C6Co2MmOsu7",
        "colab_type": "text"
      },
      "source": [
        "#FUSION PROCESSING\n",
        "#Estimation Of Body Temperature"
      ]
    },
    {
      "cell_type": "code",
      "metadata": {
        "id": "14r3oW9isXYx",
        "colab_type": "code",
        "outputId": "bc0db969-6662-4a1a-dff5-32b9098faad3",
        "colab": {
          "base_uri": "https://localhost:8080/",
          "height": 34
        }
      },
      "source": [
        "import numpy as numpy \n",
        "import statistics \n",
        "from statistics import variance \n",
        "numpy.random.seed(12345)\n",
        "True_value = 37.5\n",
        "n = 10\n",
        "m = 20\n",
        "s_1 = numpy.sqrt(1)\n",
        "s_2 = numpy.sqrt(3)\n",
        "Error1 = list(numpy.random.normal(loc=0, scale=s_1, size=n))\n",
        "Error2 = list(numpy.random.normal(loc=0, scale=s_2, size=m))\n",
        "s_1"
      ],
      "execution_count": 1,
      "outputs": [
        {
          "output_type": "execute_result",
          "data": {
            "text/plain": [
              "1.0"
            ]
          },
          "metadata": {
            "tags": []
          },
          "execution_count": 1
        }
      ]
    },
    {
      "cell_type": "code",
      "metadata": {
        "id": "DHABcsx1CweA",
        "colab_type": "code",
        "outputId": "39798a4b-b5de-467f-b1b6-da93ed8fae1b",
        "colab": {
          "base_uri": "https://localhost:8080/",
          "height": 34
        }
      },
      "source": [
        "s_2"
      ],
      "execution_count": 2,
      "outputs": [
        {
          "output_type": "execute_result",
          "data": {
            "text/plain": [
              "1.7320508075688772"
            ]
          },
          "metadata": {
            "tags": []
          },
          "execution_count": 2
        }
      ]
    },
    {
      "cell_type": "code",
      "metadata": {
        "id": "7MJD0RmBDzjv",
        "colab_type": "code",
        "colab": {}
      },
      "source": [
        "# sample 1 N(0, 1^2)\n",
        "n = 10\n",
        "Error1_mean = numpy.mean(Error1)\n",
        "Error1_median = numpy.median(Error1)\n",
        "Error1_var = numpy.var(Error1)"
      ],
      "execution_count": 0,
      "outputs": []
    },
    {
      "cell_type": "code",
      "metadata": {
        "id": "3z82-ZQqEUD_",
        "colab_type": "code",
        "colab": {}
      },
      "source": [
        "# sample 1 N(0, 3^2)\n",
        "m = 20\n",
        "Error2_mean = numpy.mean(Error2)\n",
        "Error2_median = numpy.median(Error2)\n",
        "Error2_var = numpy.var(Error2)"
      ],
      "execution_count": 0,
      "outputs": []
    },
    {
      "cell_type": "code",
      "metadata": {
        "id": "PVQE_3oDCHlh",
        "colab_type": "code",
        "colab": {}
      },
      "source": [
        "Local_meanx = float(True_value) +float(Error1_mean)"
      ],
      "execution_count": 0,
      "outputs": []
    },
    {
      "cell_type": "code",
      "metadata": {
        "id": "kLY8AdXcXvin",
        "colab_type": "code",
        "colab": {}
      },
      "source": [
        "Local_meanx1 = numpy.abs((True_value -Local_meanx)/True_value ) * 100"
      ],
      "execution_count": 0,
      "outputs": []
    },
    {
      "cell_type": "code",
      "metadata": {
        "id": "nnCk0IFsFfqq",
        "colab_type": "code",
        "colab": {}
      },
      "source": [
        "Local_medianx = float(True_value) +float(Error1_median)"
      ],
      "execution_count": 0,
      "outputs": []
    },
    {
      "cell_type": "code",
      "metadata": {
        "id": "mbRrJNsyZz04",
        "colab_type": "code",
        "colab": {}
      },
      "source": [
        "Local_medianx1 = numpy.abs((True_value -Local_medianx)/True_value ) * 100"
      ],
      "execution_count": 0,
      "outputs": []
    },
    {
      "cell_type": "code",
      "metadata": {
        "id": "qh2_mQ4_C97v",
        "colab_type": "code",
        "colab": {}
      },
      "source": [
        "Local_meany = float(True_value) +float(Error2_mean)"
      ],
      "execution_count": 0,
      "outputs": []
    },
    {
      "cell_type": "code",
      "metadata": {
        "id": "ROM1D-EFZ7HU",
        "colab_type": "code",
        "colab": {}
      },
      "source": [
        "Local_meany1 = numpy.abs((True_value -Local_meany)/True_value ) * 100"
      ],
      "execution_count": 0,
      "outputs": []
    },
    {
      "cell_type": "code",
      "metadata": {
        "id": "R2xSU7KrFmWv",
        "colab_type": "code",
        "colab": {}
      },
      "source": [
        "Local_mediany = float(True_value) +float(Error2_median)"
      ],
      "execution_count": 0,
      "outputs": []
    },
    {
      "cell_type": "code",
      "metadata": {
        "id": "PDo9z_LurCqR",
        "colab_type": "code",
        "colab": {}
      },
      "source": [
        "Local_mediany1 = numpy.abs((True_value -Local_mediany)/True_value ) * 100"
      ],
      "execution_count": 0,
      "outputs": []
    },
    {
      "cell_type": "code",
      "metadata": {
        "id": "UfrorebwwFez",
        "colab_type": "code",
        "outputId": "628896ae-b107-4fab-9432-32394abf0c69",
        "colab": {
          "base_uri": "https://localhost:8080/",
          "height": 54
        }
      },
      "source": [
        "print(f'Local meanx: {Local_meanx}, abs_meanx%: {Local_meanx1}, meany: {Local_meany}, abs_meany:{Local_meany1}, medianx: {Local_medianx}, abs_medianx:{Local_medianx1}, mediany: {Local_mediany}, abs_medianx: {Local_mediany1}')"
      ],
      "execution_count": 13,
      "outputs": [
        {
          "output_type": "stream",
          "text": [
            "Local meanx: 37.99483643982163, abs_meanx%: 1.319563839524354, meany: 37.94984167971598, abs_meany:1.1995778125759482, medianx: 37.88034474544388, abs_medianx:1.0142526545170085, mediany: 37.93639410879181, abs_medianx: 1.1637176234448248\n"
          ],
          "name": "stdout"
        }
      ]
    },
    {
      "cell_type": "code",
      "metadata": {
        "id": "XD3jYoO3rjGe",
        "colab_type": "code",
        "outputId": "8df04d39-e23c-4d10-a3d0-5331a68aace6",
        "colab": {
          "base_uri": "https://localhost:8080/",
          "height": 34
        }
      },
      "source": [
        "Local_meanx1"
      ],
      "execution_count": 14,
      "outputs": [
        {
          "output_type": "execute_result",
          "data": {
            "text/plain": [
              "1.319563839524354"
            ]
          },
          "metadata": {
            "tags": []
          },
          "execution_count": 14
        }
      ]
    },
    {
      "cell_type": "code",
      "metadata": {
        "id": "wkqDO0r6ro1_",
        "colab_type": "code",
        "outputId": "42382031-fd5b-4649-e543-577810c33bc0",
        "colab": {
          "base_uri": "https://localhost:8080/",
          "height": 34
        }
      },
      "source": [
        "Local_medianx1"
      ],
      "execution_count": 15,
      "outputs": [
        {
          "output_type": "execute_result",
          "data": {
            "text/plain": [
              "1.0142526545170085"
            ]
          },
          "metadata": {
            "tags": []
          },
          "execution_count": 15
        }
      ]
    },
    {
      "cell_type": "code",
      "metadata": {
        "id": "9QLtHK2jrtZV",
        "colab_type": "code",
        "outputId": "4a30f6dd-1acb-41ed-f5b7-71776e99b864",
        "colab": {
          "base_uri": "https://localhost:8080/",
          "height": 34
        }
      },
      "source": [
        "Local_meany1"
      ],
      "execution_count": 16,
      "outputs": [
        {
          "output_type": "execute_result",
          "data": {
            "text/plain": [
              "1.1995778125759482"
            ]
          },
          "metadata": {
            "tags": []
          },
          "execution_count": 16
        }
      ]
    },
    {
      "cell_type": "code",
      "metadata": {
        "id": "OWJnDQiFrxlY",
        "colab_type": "code",
        "outputId": "89021def-f549-4896-f960-9a955d8063c5",
        "colab": {
          "base_uri": "https://localhost:8080/",
          "height": 34
        }
      },
      "source": [
        "Local_mediany1"
      ],
      "execution_count": 17,
      "outputs": [
        {
          "output_type": "execute_result",
          "data": {
            "text/plain": [
              "1.1637176234448248"
            ]
          },
          "metadata": {
            "tags": []
          },
          "execution_count": 17
        }
      ]
    },
    {
      "cell_type": "code",
      "metadata": {
        "id": "6IQY0HbR29_K",
        "colab_type": "code",
        "colab": {}
      },
      "source": [
        "from statistics import variance\n",
        "#variance(sample1)"
      ],
      "execution_count": 0,
      "outputs": []
    },
    {
      "cell_type": "code",
      "metadata": {
        "id": "CRI3YL2MMsA9",
        "colab_type": "code",
        "outputId": "486cef25-6169-493d-d499-eefa175b0cc2",
        "colab": {
          "base_uri": "https://localhost:8080/",
          "height": 34
        }
      },
      "source": [
        "central_mean = numpy.mean([Local_meanx, Local_meany])\n",
        "central_median = numpy.median([Local_medianx, Local_mediany])\n",
        "#central_meanA = numpy.mean(central_mean)\n",
        "#central_medianA = numpy.median(central_median)\n",
        "\n",
        "print(f'centralized  mean: {central_mean}, centralized  median: {central_median}')"
      ],
      "execution_count": 19,
      "outputs": [
        {
          "output_type": "stream",
          "text": [
            "centralized  mean: 37.97233905976881, centralized  median: 37.90836942711785\n"
          ],
          "name": "stdout"
        }
      ]
    },
    {
      "cell_type": "code",
      "metadata": {
        "id": "MxQC1jxFr2wQ",
        "colab_type": "code",
        "colab": {}
      },
      "source": [
        "central_meanXY = numpy.abs((True_value -central_mean)/True_value ) * 100"
      ],
      "execution_count": 0,
      "outputs": []
    },
    {
      "cell_type": "code",
      "metadata": {
        "id": "44XbweUcsA-y",
        "colab_type": "code",
        "colab": {}
      },
      "source": [
        "central_medianXY= numpy.abs((True_value - central_median)/True_value ) * 100"
      ],
      "execution_count": 0,
      "outputs": []
    },
    {
      "cell_type": "code",
      "metadata": {
        "id": "AkAhS8R-uVBs",
        "colab_type": "code",
        "outputId": "2de24bd6-8b5b-43d1-c5d0-df4d052a8c3c",
        "colab": {
          "base_uri": "https://localhost:8080/",
          "height": 34
        }
      },
      "source": [
        "print(f'centralized abs_mean%: {central_meanXY}, centralized abs_median%: {central_medianXY}')"
      ],
      "execution_count": 22,
      "outputs": [
        {
          "output_type": "stream",
          "text": [
            "centralized abs_mean%: 1.259570826050151, centralized abs_median%: 1.0889851389809262\n"
          ],
          "name": "stdout"
        }
      ]
    },
    {
      "cell_type": "code",
      "metadata": {
        "id": "9vZosfTc4ouR",
        "colab_type": "code",
        "outputId": "6c9e7475-de28-43a6-832a-f8ef273f728e",
        "colab": {
          "base_uri": "https://localhost:8080/",
          "height": 34
        }
      },
      "source": [
        "fusion_mean = (n/(n+m))*numpy.mean(Local_meany) + (m/(n+m))*numpy.mean(Local_meanx)\n",
        "fusion_median = (n/(n+m))*numpy.median(Local_mediany) + (m/(n+m))*numpy.median(Local_medianx)\n",
        "fusion_combination = (m/(n+m))*numpy.mean(Local_meanx) +(n/(n+m))*numpy.median(Local_mediany) \n",
        "print(f'fusion  mean: {fusion_mean}, median: {fusion_median}, combination: {fusion_combination}')"
      ],
      "execution_count": 23,
      "outputs": [
        {
          "output_type": "stream",
          "text": [
            "fusion  mean: 37.97983818645308, median: 37.899027866559855, combination: 37.975355662811694\n"
          ],
          "name": "stdout"
        }
      ]
    },
    {
      "cell_type": "code",
      "metadata": {
        "id": "j6ndYxgmsfBJ",
        "colab_type": "code",
        "outputId": "bce7abf2-7361-460f-9559-d1c61d200586",
        "colab": {
          "base_uri": "https://localhost:8080/",
          "height": 34
        }
      },
      "source": [
        "fusion_meanXY= numpy.abs((True_value - fusion_mean)/True_value ) * 100\n",
        "fusion_medianXY= numpy.abs((True_value - fusion_median)/True_value ) * 100\n",
        "combinationXY= numpy.abs((True_value - fusion_combination)/True_value ) * 100\n",
        "print(f'fusion abs_mean%: {fusion_meanXY}, abs_median%: {fusion_medianXY}, abs_combination%: {combinationXY}')"
      ],
      "execution_count": 24,
      "outputs": [
        {
          "output_type": "stream",
          "text": [
            "fusion abs_mean%: 1.2795684972082122, abs_median%: 1.0640743108262807, abs_combination%: 1.267615100831184\n"
          ],
          "name": "stdout"
        }
      ]
    },
    {
      "cell_type": "code",
      "metadata": {
        "id": "wTfSNN6tCsYj",
        "colab_type": "code",
        "colab": {}
      },
      "source": [
        "import pandas as pd"
      ],
      "execution_count": 0,
      "outputs": []
    },
    {
      "cell_type": "code",
      "metadata": {
        "id": "0LdIQkXlKRAE",
        "colab_type": "code",
        "outputId": "aca948f2-1f12-470e-92ad-d3ea4b147826",
        "colab": {
          "base_uri": "https://localhost:8080/",
          "height": 173
        }
      },
      "source": [
        "result5 = pd.DataFrame([(Local_meanx, Local_meany, central_mean, fusion_mean), (Local_meanx1, Local_meany1, central_meanXY, fusion_meanXY), (Local_medianx, Local_mediany, central_median, fusion_median), (Local_medianx1, Local_mediany1, central_medianXY ,fusion_medianXY)], columns=['local xi','local yi', 'centralized Estimate', 'fusion Estimate'], index=['Mean', 'abs_mean%', 'Median', 'abs_median%'])\n",
        "result5"
      ],
      "execution_count": 31,
      "outputs": [
        {
          "output_type": "execute_result",
          "data": {
            "text/html": [
              "<div>\n",
              "<style scoped>\n",
              "    .dataframe tbody tr th:only-of-type {\n",
              "        vertical-align: middle;\n",
              "    }\n",
              "\n",
              "    .dataframe tbody tr th {\n",
              "        vertical-align: top;\n",
              "    }\n",
              "\n",
              "    .dataframe thead th {\n",
              "        text-align: right;\n",
              "    }\n",
              "</style>\n",
              "<table border=\"1\" class=\"dataframe\">\n",
              "  <thead>\n",
              "    <tr style=\"text-align: right;\">\n",
              "      <th></th>\n",
              "      <th>local xi</th>\n",
              "      <th>local yi</th>\n",
              "      <th>centralized Estimate</th>\n",
              "      <th>fusion Estimate</th>\n",
              "    </tr>\n",
              "  </thead>\n",
              "  <tbody>\n",
              "    <tr>\n",
              "      <th>Mean</th>\n",
              "      <td>37.994836</td>\n",
              "      <td>37.949842</td>\n",
              "      <td>37.972339</td>\n",
              "      <td>37.979838</td>\n",
              "    </tr>\n",
              "    <tr>\n",
              "      <th>abs_mean%</th>\n",
              "      <td>1.319564</td>\n",
              "      <td>1.199578</td>\n",
              "      <td>1.259571</td>\n",
              "      <td>1.279568</td>\n",
              "    </tr>\n",
              "    <tr>\n",
              "      <th>Median</th>\n",
              "      <td>37.880345</td>\n",
              "      <td>37.936394</td>\n",
              "      <td>37.908369</td>\n",
              "      <td>37.899028</td>\n",
              "    </tr>\n",
              "    <tr>\n",
              "      <th>abs_median%</th>\n",
              "      <td>1.014253</td>\n",
              "      <td>1.163718</td>\n",
              "      <td>1.088985</td>\n",
              "      <td>1.064074</td>\n",
              "    </tr>\n",
              "  </tbody>\n",
              "</table>\n",
              "</div>"
            ],
            "text/plain": [
              "              local xi   local yi  centralized Estimate  fusion Estimate\n",
              "Mean         37.994836  37.949842             37.972339        37.979838\n",
              "abs_mean%     1.319564   1.199578              1.259571         1.279568\n",
              "Median       37.880345  37.936394             37.908369        37.899028\n",
              "abs_median%   1.014253   1.163718              1.088985         1.064074"
            ]
          },
          "metadata": {
            "tags": []
          },
          "execution_count": 31
        }
      ]
    },
    {
      "cell_type": "code",
      "metadata": {
        "id": "oqHymRqbIuTd",
        "colab_type": "code",
        "outputId": "74e70550-99fa-4701-bb0a-18472e7f1065",
        "colab": {
          "base_uri": "https://localhost:8080/",
          "height": 111
        }
      },
      "source": [
        "result4 = pd.DataFrame([(fusion_combination), (combinationXY)], columns=['fusion Estimate'], index=['fusion_combination', 'abs_combinationXY'])\n",
        "result4"
      ],
      "execution_count": 32,
      "outputs": [
        {
          "output_type": "execute_result",
          "data": {
            "text/html": [
              "<div>\n",
              "<style scoped>\n",
              "    .dataframe tbody tr th:only-of-type {\n",
              "        vertical-align: middle;\n",
              "    }\n",
              "\n",
              "    .dataframe tbody tr th {\n",
              "        vertical-align: top;\n",
              "    }\n",
              "\n",
              "    .dataframe thead th {\n",
              "        text-align: right;\n",
              "    }\n",
              "</style>\n",
              "<table border=\"1\" class=\"dataframe\">\n",
              "  <thead>\n",
              "    <tr style=\"text-align: right;\">\n",
              "      <th></th>\n",
              "      <th>fusion Estimate</th>\n",
              "    </tr>\n",
              "  </thead>\n",
              "  <tbody>\n",
              "    <tr>\n",
              "      <th>fusion_combination</th>\n",
              "      <td>37.975356</td>\n",
              "    </tr>\n",
              "    <tr>\n",
              "      <th>abs_combinationXY</th>\n",
              "      <td>1.267615</td>\n",
              "    </tr>\n",
              "  </tbody>\n",
              "</table>\n",
              "</div>"
            ],
            "text/plain": [
              "                    fusion Estimate\n",
              "fusion_combination        37.975356\n",
              "abs_combinationXY          1.267615"
            ]
          },
          "metadata": {
            "tags": []
          },
          "execution_count": 32
        }
      ]
    }
  ]
}