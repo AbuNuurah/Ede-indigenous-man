{
  "nbformat": 4,
  "nbformat_minor": 0,
  "metadata": {
    "colab": {
      "name": "BodyTemperature1_simulate.ipynb",
      "provenance": [],
      "collapsed_sections": [],
      "include_colab_link": true
    },
    "kernelspec": {
      "name": "python3",
      "display_name": "Python 3"
    }
  },
  "cells": [
    {
      "cell_type": "markdown",
      "metadata": {
        "id": "view-in-github",
        "colab_type": "text"
      },
      "source": [
        "<a href=\"https://colab.research.google.com/github/AbuNuurah/Ede-indigenous-man/blob/master/BodyTemperature1_simulate.ipynb\" target=\"_parent\"><img src=\"https://colab.research.google.com/assets/colab-badge.svg\" alt=\"Open In Colab\"/></a>"
      ]
    },
    {
      "cell_type": "markdown",
      "metadata": {
        "id": "1C6Co2MmOsu7",
        "colab_type": "text"
      },
      "source": [
        "#FUSION PROCESSING\n",
        "#Estimation Of Body Temperature"
      ]
    },
    {
      "cell_type": "code",
      "metadata": {
        "id": "14r3oW9isXYx",
        "colab_type": "code",
        "outputId": "e7b0c590-44c6-4f25-8311-04ca2bc18303",
        "colab": {
          "base_uri": "https://localhost:8080/",
          "height": 34
        }
      },
      "source": [
        "import numpy as numpy \n",
        "import statistics \n",
        "from statistics import variance \n",
        "numpy.random.seed(12345)\n",
        "True_value = 37.5\n",
        "n = 10\n",
        "m = 20\n",
        "s_1 = numpy.sqrt(1)\n",
        "s_2 = numpy.sqrt(3)\n",
        "Error1 = list(numpy.random.normal(loc=0, scale=s_1, size=n))\n",
        "Error2 = list(numpy.random.normal(loc=0, scale=s_2, size=m))\n",
        "s_1"
      ],
      "execution_count": 107,
      "outputs": [
        {
          "output_type": "execute_result",
          "data": {
            "text/plain": [
              "1.0"
            ]
          },
          "metadata": {
            "tags": []
          },
          "execution_count": 107
        }
      ]
    },
    {
      "cell_type": "code",
      "metadata": {
        "id": "DHABcsx1CweA",
        "colab_type": "code",
        "outputId": "9071e92c-8aef-4314-db7f-1c4f09ef8466",
        "colab": {
          "base_uri": "https://localhost:8080/",
          "height": 34
        }
      },
      "source": [
        "s_2"
      ],
      "execution_count": 108,
      "outputs": [
        {
          "output_type": "execute_result",
          "data": {
            "text/plain": [
              "1.7320508075688772"
            ]
          },
          "metadata": {
            "tags": []
          },
          "execution_count": 108
        }
      ]
    },
    {
      "cell_type": "code",
      "metadata": {
        "id": "7MJD0RmBDzjv",
        "colab_type": "code",
        "colab": {}
      },
      "source": [
        "# sample 1 N(0, 1^2)\n",
        "n = 10\n",
        "Error1_mean = numpy.mean(Error1)\n",
        "Error1_median = numpy.median(Error1)\n",
        "Error1_var = numpy.var(Error1)"
      ],
      "execution_count": 0,
      "outputs": []
    },
    {
      "cell_type": "code",
      "metadata": {
        "id": "3z82-ZQqEUD_",
        "colab_type": "code",
        "colab": {}
      },
      "source": [
        "# sample 1 N(0, 3^2)\n",
        "m = 20\n",
        "Error2_mean = numpy.mean(Error2)\n",
        "Error2_median = numpy.median(Error2)\n",
        "Error2_var = numpy.var(Error2)"
      ],
      "execution_count": 0,
      "outputs": []
    },
    {
      "cell_type": "code",
      "metadata": {
        "id": "PVQE_3oDCHlh",
        "colab_type": "code",
        "colab": {}
      },
      "source": [
        "Local_meanx = float(True_value) +float(Error1_mean)"
      ],
      "execution_count": 0,
      "outputs": []
    },
    {
      "cell_type": "code",
      "metadata": {
        "id": "kLY8AdXcXvin",
        "colab_type": "code",
        "colab": {}
      },
      "source": [
        "Local_meanx1 = numpy.abs((True_value -Local_meanx)/True_value ) * 0.01"
      ],
      "execution_count": 0,
      "outputs": []
    },
    {
      "cell_type": "code",
      "metadata": {
        "id": "nnCk0IFsFfqq",
        "colab_type": "code",
        "colab": {}
      },
      "source": [
        "Local_medianx = float(True_value) +float(Error1_median)"
      ],
      "execution_count": 0,
      "outputs": []
    },
    {
      "cell_type": "code",
      "metadata": {
        "id": "mbRrJNsyZz04",
        "colab_type": "code",
        "colab": {}
      },
      "source": [
        "Local_medianx1 = numpy.abs((True_value -Local_medianx)/True_value ) * 0.01"
      ],
      "execution_count": 0,
      "outputs": []
    },
    {
      "cell_type": "code",
      "metadata": {
        "id": "qh2_mQ4_C97v",
        "colab_type": "code",
        "colab": {}
      },
      "source": [
        "Local_meany = float(True_value) +float(Error2_mean)"
      ],
      "execution_count": 0,
      "outputs": []
    },
    {
      "cell_type": "code",
      "metadata": {
        "id": "ROM1D-EFZ7HU",
        "colab_type": "code",
        "colab": {}
      },
      "source": [
        "Local_meany1 = numpy.abs((True_value -Local_meany)/True_value ) * 0.01"
      ],
      "execution_count": 0,
      "outputs": []
    },
    {
      "cell_type": "code",
      "metadata": {
        "id": "R2xSU7KrFmWv",
        "colab_type": "code",
        "colab": {}
      },
      "source": [
        "Local_mediany = float(True_value) +float(Error2_median)"
      ],
      "execution_count": 0,
      "outputs": []
    },
    {
      "cell_type": "code",
      "metadata": {
        "id": "PDo9z_LurCqR",
        "colab_type": "code",
        "colab": {}
      },
      "source": [
        "Local_mediany1 = numpy.abs((True_value -Local_mediany)/True_value ) * 0.01"
      ],
      "execution_count": 0,
      "outputs": []
    },
    {
      "cell_type": "code",
      "metadata": {
        "id": "UfrorebwwFez",
        "colab_type": "code",
        "colab": {
          "base_uri": "https://localhost:8080/",
          "height": 54
        },
        "outputId": "26de14a4-3c87-4f91-adcc-dde4b4e47b3f"
      },
      "source": [
        "print(f'Local meanx: {Local_meanx}, abs_meanx%: {Local_meanx1}, meany: {Local_meany}, abs_meany:{Local_meany1}, medianx: {Local_medianx}, abs_medianx:{Local_medianx1}, mediany: {Local_mediany}, abs_medianx: {Local_mediany1}')"
      ],
      "execution_count": 119,
      "outputs": [
        {
          "output_type": "stream",
          "text": [
            "Local meanx: 37.99483643982163, abs_meanx%: 0.0001319563839524354, meany: 37.94984167971598, abs_meany:0.00011995778125759482, medianx: 37.88034474544388, abs_medianx:0.00010142526545170085, mediany: 37.93639410879181, abs_medianx: 0.00011637176234448248\n"
          ],
          "name": "stdout"
        }
      ]
    },
    {
      "cell_type": "code",
      "metadata": {
        "id": "XD3jYoO3rjGe",
        "colab_type": "code",
        "outputId": "848d6264-4302-4de4-a62f-dc4f860609c3",
        "colab": {
          "base_uri": "https://localhost:8080/",
          "height": 34
        }
      },
      "source": [
        "Local_meanx1"
      ],
      "execution_count": 120,
      "outputs": [
        {
          "output_type": "execute_result",
          "data": {
            "text/plain": [
              "0.0001319563839524354"
            ]
          },
          "metadata": {
            "tags": []
          },
          "execution_count": 120
        }
      ]
    },
    {
      "cell_type": "code",
      "metadata": {
        "id": "wkqDO0r6ro1_",
        "colab_type": "code",
        "outputId": "703438f7-17cf-45ec-c1e4-e1e30420eb69",
        "colab": {
          "base_uri": "https://localhost:8080/",
          "height": 34
        }
      },
      "source": [
        "Local_medianx1"
      ],
      "execution_count": 121,
      "outputs": [
        {
          "output_type": "execute_result",
          "data": {
            "text/plain": [
              "0.00010142526545170085"
            ]
          },
          "metadata": {
            "tags": []
          },
          "execution_count": 121
        }
      ]
    },
    {
      "cell_type": "code",
      "metadata": {
        "id": "9QLtHK2jrtZV",
        "colab_type": "code",
        "outputId": "a53c723d-5389-4d1c-daec-8cb36c390f68",
        "colab": {
          "base_uri": "https://localhost:8080/",
          "height": 34
        }
      },
      "source": [
        "Local_meany1"
      ],
      "execution_count": 122,
      "outputs": [
        {
          "output_type": "execute_result",
          "data": {
            "text/plain": [
              "0.00011995778125759482"
            ]
          },
          "metadata": {
            "tags": []
          },
          "execution_count": 122
        }
      ]
    },
    {
      "cell_type": "code",
      "metadata": {
        "id": "OWJnDQiFrxlY",
        "colab_type": "code",
        "outputId": "0f469913-f080-41ef-ba60-8f31e80c89ef",
        "colab": {
          "base_uri": "https://localhost:8080/",
          "height": 34
        }
      },
      "source": [
        "Local_mediany1"
      ],
      "execution_count": 123,
      "outputs": [
        {
          "output_type": "execute_result",
          "data": {
            "text/plain": [
              "0.00011637176234448248"
            ]
          },
          "metadata": {
            "tags": []
          },
          "execution_count": 123
        }
      ]
    },
    {
      "cell_type": "code",
      "metadata": {
        "id": "6IQY0HbR29_K",
        "colab_type": "code",
        "colab": {}
      },
      "source": [
        "from statistics import variance\n",
        "#variance(sample1)"
      ],
      "execution_count": 0,
      "outputs": []
    },
    {
      "cell_type": "code",
      "metadata": {
        "id": "CRI3YL2MMsA9",
        "colab_type": "code",
        "colab": {
          "base_uri": "https://localhost:8080/",
          "height": 34
        },
        "outputId": "27936a1d-e0ca-4b54-e1f1-c33960b8989e"
      },
      "source": [
        "central_mean = numpy.mean([Local_meanx, Local_meany])\n",
        "central_median = numpy.median([Local_medianx, Local_mediany])\n",
        "#central_meanA = numpy.mean(central_mean)\n",
        "#central_medianA = numpy.median(central_median)\n",
        "\n",
        "print(f'centralized  mean: {central_mean}, centralized  median: {central_median}')"
      ],
      "execution_count": 125,
      "outputs": [
        {
          "output_type": "stream",
          "text": [
            "centralized  mean: 37.97233905976881, centralized  median: 37.90836942711785\n"
          ],
          "name": "stdout"
        }
      ]
    },
    {
      "cell_type": "code",
      "metadata": {
        "id": "MxQC1jxFr2wQ",
        "colab_type": "code",
        "colab": {}
      },
      "source": [
        "central_meanXY = numpy.abs((True_value -central_mean)/True_value ) * 0.01"
      ],
      "execution_count": 0,
      "outputs": []
    },
    {
      "cell_type": "code",
      "metadata": {
        "id": "44XbweUcsA-y",
        "colab_type": "code",
        "colab": {}
      },
      "source": [
        "central_medianXY= numpy.abs((True_value - central_median)/True_value ) * 0.01"
      ],
      "execution_count": 0,
      "outputs": []
    },
    {
      "cell_type": "code",
      "metadata": {
        "id": "AkAhS8R-uVBs",
        "colab_type": "code",
        "colab": {
          "base_uri": "https://localhost:8080/",
          "height": 34
        },
        "outputId": "a401d2fa-f46d-469c-8ac9-815b328c9a0e"
      },
      "source": [
        "print(f'centralized abs_mean%: {central_meanXY}, centralized abs_median%: {central_medianXY}')"
      ],
      "execution_count": 128,
      "outputs": [
        {
          "output_type": "stream",
          "text": [
            "centralized abs_mean%: 0.00012595708260501511, centralized abs_median%: 0.00010889851389809262\n"
          ],
          "name": "stdout"
        }
      ]
    },
    {
      "cell_type": "code",
      "metadata": {
        "id": "9vZosfTc4ouR",
        "colab_type": "code",
        "outputId": "430fd587-14a0-4904-e8d7-77deb901bbe0",
        "colab": {
          "base_uri": "https://localhost:8080/",
          "height": 34
        }
      },
      "source": [
        "fusion_mean = (n/(n+m))*numpy.mean(Local_meany) + (m/(n+m))*numpy.mean(Local_meanx)\n",
        "fusion_median = (n/(n+m))*numpy.median(Local_mediany) + (m/(n+m))*numpy.median(Local_medianx)\n",
        "fusion_combination = (m/(n+m))*numpy.mean(Local_meanx) +(n/(n+m))*numpy.median(Local_mediany) \n",
        "print(f'fusion  mean: {fusion_mean}, median: {fusion_median}, combination: {fusion_combination}')"
      ],
      "execution_count": 129,
      "outputs": [
        {
          "output_type": "stream",
          "text": [
            "fusion  mean: 37.97983818645308, median: 37.899027866559855, combination: 37.975355662811694\n"
          ],
          "name": "stdout"
        }
      ]
    },
    {
      "cell_type": "code",
      "metadata": {
        "id": "j6ndYxgmsfBJ",
        "colab_type": "code",
        "outputId": "d34768a8-7bb2-49a2-d415-07d09bcc6f74",
        "colab": {
          "base_uri": "https://localhost:8080/",
          "height": 34
        }
      },
      "source": [
        "fusion_meanXY= numpy.abs((True_value - fusion_mean)/True_value ) * 0.01\n",
        "fusion_medianXY= numpy.abs((True_value - fusion_median)/True_value ) * 0.01\n",
        "combinationXY= numpy.abs((True_value - fusion_combination)/True_value ) * 0.01\n",
        "print(f'fusion abs_mean%: {fusion_meanXY}, abs_median%: {fusion_medianXY}, abs_combination%: {combinationXY}')"
      ],
      "execution_count": 130,
      "outputs": [
        {
          "output_type": "stream",
          "text": [
            "fusion abs_mean%: 0.00012795684972082125, abs_median%: 0.00010640743108262806, abs_combination%: 0.0001267615100831184\n"
          ],
          "name": "stdout"
        }
      ]
    },
    {
      "cell_type": "code",
      "metadata": {
        "id": "wTfSNN6tCsYj",
        "colab_type": "code",
        "colab": {}
      },
      "source": [
        "import pandas as pd"
      ],
      "execution_count": 0,
      "outputs": []
    },
    {
      "cell_type": "code",
      "metadata": {
        "id": "R2p4X3iR8tsY",
        "colab_type": "code",
        "colab": {
          "base_uri": "https://localhost:8080/",
          "height": 173
        },
        "outputId": "2cfd7b40-532b-4b55-f80e-1ac2bffdfc82"
      },
      "source": [
        "result = pd.DataFrame([(Local_meanx, Local_meany, central_mean, fusion_mean), (Local_meanx1, Local_meany1, central_meanXY, fusion_meanXY), (Local_medianx, Local_mediany, central_median, fusion_median), (Local_medianx1, Local_mediany1, central_medianXY ,fusion_medianXY)], index=['local xi','local yi', 'centralized Estimate', 'fusion Estimate'], columns=['Mean', 'abs_mean%', 'Median', 'abs_median%'])\n",
        "result"
      ],
      "execution_count": 132,
      "outputs": [
        {
          "output_type": "execute_result",
          "data": {
            "text/html": [
              "<div>\n",
              "<style scoped>\n",
              "    .dataframe tbody tr th:only-of-type {\n",
              "        vertical-align: middle;\n",
              "    }\n",
              "\n",
              "    .dataframe tbody tr th {\n",
              "        vertical-align: top;\n",
              "    }\n",
              "\n",
              "    .dataframe thead th {\n",
              "        text-align: right;\n",
              "    }\n",
              "</style>\n",
              "<table border=\"1\" class=\"dataframe\">\n",
              "  <thead>\n",
              "    <tr style=\"text-align: right;\">\n",
              "      <th></th>\n",
              "      <th>Mean</th>\n",
              "      <th>abs_mean%</th>\n",
              "      <th>Median</th>\n",
              "      <th>abs_median%</th>\n",
              "    </tr>\n",
              "  </thead>\n",
              "  <tbody>\n",
              "    <tr>\n",
              "      <th>local xi</th>\n",
              "      <td>37.994836</td>\n",
              "      <td>37.949842</td>\n",
              "      <td>37.972339</td>\n",
              "      <td>37.979838</td>\n",
              "    </tr>\n",
              "    <tr>\n",
              "      <th>local yi</th>\n",
              "      <td>0.000132</td>\n",
              "      <td>0.000120</td>\n",
              "      <td>0.000126</td>\n",
              "      <td>0.000128</td>\n",
              "    </tr>\n",
              "    <tr>\n",
              "      <th>centralized Estimate</th>\n",
              "      <td>37.880345</td>\n",
              "      <td>37.936394</td>\n",
              "      <td>37.908369</td>\n",
              "      <td>37.899028</td>\n",
              "    </tr>\n",
              "    <tr>\n",
              "      <th>fusion Estimate</th>\n",
              "      <td>0.000101</td>\n",
              "      <td>0.000116</td>\n",
              "      <td>0.000109</td>\n",
              "      <td>0.000106</td>\n",
              "    </tr>\n",
              "  </tbody>\n",
              "</table>\n",
              "</div>"
            ],
            "text/plain": [
              "                           Mean  abs_mean%     Median  abs_median%\n",
              "local xi              37.994836  37.949842  37.972339    37.979838\n",
              "local yi               0.000132   0.000120   0.000126     0.000128\n",
              "centralized Estimate  37.880345  37.936394  37.908369    37.899028\n",
              "fusion Estimate        0.000101   0.000116   0.000109     0.000106"
            ]
          },
          "metadata": {
            "tags": []
          },
          "execution_count": 132
        }
      ]
    },
    {
      "cell_type": "code",
      "metadata": {
        "id": "9X-axVtOG1uO",
        "colab_type": "code",
        "colab": {
          "base_uri": "https://localhost:8080/",
          "height": 173
        },
        "outputId": "47dc8446-611c-4400-c479-6d53bda95c4d"
      },
      "source": [
        "result = pd.DataFrame([Local_meanx, Local_meany, central_mean, fusion_mean], index=['local xi','local yi', 'centralized Estimate', 'fusion Estimate'], columns=['Mean'])\n",
        "result"
      ],
      "execution_count": 133,
      "outputs": [
        {
          "output_type": "execute_result",
          "data": {
            "text/html": [
              "<div>\n",
              "<style scoped>\n",
              "    .dataframe tbody tr th:only-of-type {\n",
              "        vertical-align: middle;\n",
              "    }\n",
              "\n",
              "    .dataframe tbody tr th {\n",
              "        vertical-align: top;\n",
              "    }\n",
              "\n",
              "    .dataframe thead th {\n",
              "        text-align: right;\n",
              "    }\n",
              "</style>\n",
              "<table border=\"1\" class=\"dataframe\">\n",
              "  <thead>\n",
              "    <tr style=\"text-align: right;\">\n",
              "      <th></th>\n",
              "      <th>Mean</th>\n",
              "    </tr>\n",
              "  </thead>\n",
              "  <tbody>\n",
              "    <tr>\n",
              "      <th>local xi</th>\n",
              "      <td>37.994836</td>\n",
              "    </tr>\n",
              "    <tr>\n",
              "      <th>local yi</th>\n",
              "      <td>37.949842</td>\n",
              "    </tr>\n",
              "    <tr>\n",
              "      <th>centralized Estimate</th>\n",
              "      <td>37.972339</td>\n",
              "    </tr>\n",
              "    <tr>\n",
              "      <th>fusion Estimate</th>\n",
              "      <td>37.979838</td>\n",
              "    </tr>\n",
              "  </tbody>\n",
              "</table>\n",
              "</div>"
            ],
            "text/plain": [
              "                           Mean\n",
              "local xi              37.994836\n",
              "local yi              37.949842\n",
              "centralized Estimate  37.972339\n",
              "fusion Estimate       37.979838"
            ]
          },
          "metadata": {
            "tags": []
          },
          "execution_count": 133
        }
      ]
    },
    {
      "cell_type": "code",
      "metadata": {
        "id": "4EcP40IrH4Xo",
        "colab_type": "code",
        "colab": {
          "base_uri": "https://localhost:8080/",
          "height": 173
        },
        "outputId": "72899eaf-5607-434f-f896-99dfa28ee4b8"
      },
      "source": [
        "result1 = pd.DataFrame([Local_meanx1, Local_meany1, central_meanXY, fusion_meanXY], index=['local xi','local yi', 'centralized Estimate', 'fusion Estimate'], columns=['abs_mean%'])\n",
        "result1"
      ],
      "execution_count": 134,
      "outputs": [
        {
          "output_type": "execute_result",
          "data": {
            "text/html": [
              "<div>\n",
              "<style scoped>\n",
              "    .dataframe tbody tr th:only-of-type {\n",
              "        vertical-align: middle;\n",
              "    }\n",
              "\n",
              "    .dataframe tbody tr th {\n",
              "        vertical-align: top;\n",
              "    }\n",
              "\n",
              "    .dataframe thead th {\n",
              "        text-align: right;\n",
              "    }\n",
              "</style>\n",
              "<table border=\"1\" class=\"dataframe\">\n",
              "  <thead>\n",
              "    <tr style=\"text-align: right;\">\n",
              "      <th></th>\n",
              "      <th>abs_mean%</th>\n",
              "    </tr>\n",
              "  </thead>\n",
              "  <tbody>\n",
              "    <tr>\n",
              "      <th>local xi</th>\n",
              "      <td>0.000132</td>\n",
              "    </tr>\n",
              "    <tr>\n",
              "      <th>local yi</th>\n",
              "      <td>0.000120</td>\n",
              "    </tr>\n",
              "    <tr>\n",
              "      <th>centralized Estimate</th>\n",
              "      <td>0.000126</td>\n",
              "    </tr>\n",
              "    <tr>\n",
              "      <th>fusion Estimate</th>\n",
              "      <td>0.000128</td>\n",
              "    </tr>\n",
              "  </tbody>\n",
              "</table>\n",
              "</div>"
            ],
            "text/plain": [
              "                      abs_mean%\n",
              "local xi               0.000132\n",
              "local yi               0.000120\n",
              "centralized Estimate   0.000126\n",
              "fusion Estimate        0.000128"
            ]
          },
          "metadata": {
            "tags": []
          },
          "execution_count": 134
        }
      ]
    },
    {
      "cell_type": "code",
      "metadata": {
        "id": "pEVZ66F3IKSp",
        "colab_type": "code",
        "colab": {
          "base_uri": "https://localhost:8080/",
          "height": 173
        },
        "outputId": "46d0b535-b1af-4aaa-8e7f-b3697b65b7a9"
      },
      "source": [
        "result2 = pd.DataFrame([Local_medianx, Local_mediany, central_median, fusion_median], index=['local xi','local yi', 'centralized Estimate', 'fusion Estimate'], columns=[ 'Median'])\n",
        "result2"
      ],
      "execution_count": 135,
      "outputs": [
        {
          "output_type": "execute_result",
          "data": {
            "text/html": [
              "<div>\n",
              "<style scoped>\n",
              "    .dataframe tbody tr th:only-of-type {\n",
              "        vertical-align: middle;\n",
              "    }\n",
              "\n",
              "    .dataframe tbody tr th {\n",
              "        vertical-align: top;\n",
              "    }\n",
              "\n",
              "    .dataframe thead th {\n",
              "        text-align: right;\n",
              "    }\n",
              "</style>\n",
              "<table border=\"1\" class=\"dataframe\">\n",
              "  <thead>\n",
              "    <tr style=\"text-align: right;\">\n",
              "      <th></th>\n",
              "      <th>Median</th>\n",
              "    </tr>\n",
              "  </thead>\n",
              "  <tbody>\n",
              "    <tr>\n",
              "      <th>local xi</th>\n",
              "      <td>37.880345</td>\n",
              "    </tr>\n",
              "    <tr>\n",
              "      <th>local yi</th>\n",
              "      <td>37.936394</td>\n",
              "    </tr>\n",
              "    <tr>\n",
              "      <th>centralized Estimate</th>\n",
              "      <td>37.908369</td>\n",
              "    </tr>\n",
              "    <tr>\n",
              "      <th>fusion Estimate</th>\n",
              "      <td>37.899028</td>\n",
              "    </tr>\n",
              "  </tbody>\n",
              "</table>\n",
              "</div>"
            ],
            "text/plain": [
              "                         Median\n",
              "local xi              37.880345\n",
              "local yi              37.936394\n",
              "centralized Estimate  37.908369\n",
              "fusion Estimate       37.899028"
            ]
          },
          "metadata": {
            "tags": []
          },
          "execution_count": 135
        }
      ]
    },
    {
      "cell_type": "code",
      "metadata": {
        "id": "rd6MpttUIaAg",
        "colab_type": "code",
        "colab": {
          "base_uri": "https://localhost:8080/",
          "height": 173
        },
        "outputId": "7fb344aa-3bb2-4c27-ef66-ee579433228c"
      },
      "source": [
        "result3 = pd.DataFrame([Local_medianx1, Local_mediany1, central_medianXY ,fusion_medianXY], index=['local xi','local yi', 'centralized Estimate', 'fusion Estimate'], columns=['abs_median%'])\n",
        "result3"
      ],
      "execution_count": 136,
      "outputs": [
        {
          "output_type": "execute_result",
          "data": {
            "text/html": [
              "<div>\n",
              "<style scoped>\n",
              "    .dataframe tbody tr th:only-of-type {\n",
              "        vertical-align: middle;\n",
              "    }\n",
              "\n",
              "    .dataframe tbody tr th {\n",
              "        vertical-align: top;\n",
              "    }\n",
              "\n",
              "    .dataframe thead th {\n",
              "        text-align: right;\n",
              "    }\n",
              "</style>\n",
              "<table border=\"1\" class=\"dataframe\">\n",
              "  <thead>\n",
              "    <tr style=\"text-align: right;\">\n",
              "      <th></th>\n",
              "      <th>abs_median%</th>\n",
              "    </tr>\n",
              "  </thead>\n",
              "  <tbody>\n",
              "    <tr>\n",
              "      <th>local xi</th>\n",
              "      <td>0.000101</td>\n",
              "    </tr>\n",
              "    <tr>\n",
              "      <th>local yi</th>\n",
              "      <td>0.000116</td>\n",
              "    </tr>\n",
              "    <tr>\n",
              "      <th>centralized Estimate</th>\n",
              "      <td>0.000109</td>\n",
              "    </tr>\n",
              "    <tr>\n",
              "      <th>fusion Estimate</th>\n",
              "      <td>0.000106</td>\n",
              "    </tr>\n",
              "  </tbody>\n",
              "</table>\n",
              "</div>"
            ],
            "text/plain": [
              "                      abs_median%\n",
              "local xi                 0.000101\n",
              "local yi                 0.000116\n",
              "centralized Estimate     0.000109\n",
              "fusion Estimate          0.000106"
            ]
          },
          "metadata": {
            "tags": []
          },
          "execution_count": 136
        }
      ]
    },
    {
      "cell_type": "code",
      "metadata": {
        "id": "0LdIQkXlKRAE",
        "colab_type": "code",
        "colab": {
          "base_uri": "https://localhost:8080/",
          "height": 173
        },
        "outputId": "c5c0f535-7002-44d8-e39d-574030fa6b0b"
      },
      "source": [
        "result5 = pd.DataFrame([(Local_meanx, Local_meany, central_mean, fusion_mean), (Local_meanx1, Local_meany1, central_meanXY, fusion_meanXY), (Local_medianx, Local_mediany, central_median, fusion_median), (Local_medianx1, Local_mediany1, central_medianXY ,fusion_medianXY)], columns=['local xi','local yi', 'centralized Estimate', 'fusion Estimate'], index=['Mean', 'abs_mean%', 'Median', 'abs_median%'])\n",
        "result5"
      ],
      "execution_count": 138,
      "outputs": [
        {
          "output_type": "execute_result",
          "data": {
            "text/html": [
              "<div>\n",
              "<style scoped>\n",
              "    .dataframe tbody tr th:only-of-type {\n",
              "        vertical-align: middle;\n",
              "    }\n",
              "\n",
              "    .dataframe tbody tr th {\n",
              "        vertical-align: top;\n",
              "    }\n",
              "\n",
              "    .dataframe thead th {\n",
              "        text-align: right;\n",
              "    }\n",
              "</style>\n",
              "<table border=\"1\" class=\"dataframe\">\n",
              "  <thead>\n",
              "    <tr style=\"text-align: right;\">\n",
              "      <th></th>\n",
              "      <th>local xi</th>\n",
              "      <th>local yi</th>\n",
              "      <th>centralized Estimate</th>\n",
              "      <th>fusion Estimate</th>\n",
              "    </tr>\n",
              "  </thead>\n",
              "  <tbody>\n",
              "    <tr>\n",
              "      <th>Mean</th>\n",
              "      <td>37.994836</td>\n",
              "      <td>37.949842</td>\n",
              "      <td>37.972339</td>\n",
              "      <td>37.979838</td>\n",
              "    </tr>\n",
              "    <tr>\n",
              "      <th>abs_mean%</th>\n",
              "      <td>0.000132</td>\n",
              "      <td>0.000120</td>\n",
              "      <td>0.000126</td>\n",
              "      <td>0.000128</td>\n",
              "    </tr>\n",
              "    <tr>\n",
              "      <th>Median</th>\n",
              "      <td>37.880345</td>\n",
              "      <td>37.936394</td>\n",
              "      <td>37.908369</td>\n",
              "      <td>37.899028</td>\n",
              "    </tr>\n",
              "    <tr>\n",
              "      <th>abs_median%</th>\n",
              "      <td>0.000101</td>\n",
              "      <td>0.000116</td>\n",
              "      <td>0.000109</td>\n",
              "      <td>0.000106</td>\n",
              "    </tr>\n",
              "  </tbody>\n",
              "</table>\n",
              "</div>"
            ],
            "text/plain": [
              "              local xi   local yi  centralized Estimate  fusion Estimate\n",
              "Mean         37.994836  37.949842             37.972339        37.979838\n",
              "abs_mean%     0.000132   0.000120              0.000126         0.000128\n",
              "Median       37.880345  37.936394             37.908369        37.899028\n",
              "abs_median%   0.000101   0.000116              0.000109         0.000106"
            ]
          },
          "metadata": {
            "tags": []
          },
          "execution_count": 138
        }
      ]
    },
    {
      "cell_type": "code",
      "metadata": {
        "id": "oqHymRqbIuTd",
        "colab_type": "code",
        "colab": {
          "base_uri": "https://localhost:8080/",
          "height": 111
        },
        "outputId": "d03832b3-4b2d-4cf9-911c-5ddce10a7c19"
      },
      "source": [
        "result4 = pd.DataFrame([(fusion_combination), (combinationXY)], columns=['fusion Estimate'], index=['fusion_combination', 'abs_combinationXY'])\n",
        "result4"
      ],
      "execution_count": 139,
      "outputs": [
        {
          "output_type": "execute_result",
          "data": {
            "text/html": [
              "<div>\n",
              "<style scoped>\n",
              "    .dataframe tbody tr th:only-of-type {\n",
              "        vertical-align: middle;\n",
              "    }\n",
              "\n",
              "    .dataframe tbody tr th {\n",
              "        vertical-align: top;\n",
              "    }\n",
              "\n",
              "    .dataframe thead th {\n",
              "        text-align: right;\n",
              "    }\n",
              "</style>\n",
              "<table border=\"1\" class=\"dataframe\">\n",
              "  <thead>\n",
              "    <tr style=\"text-align: right;\">\n",
              "      <th></th>\n",
              "      <th>fusion Estimate</th>\n",
              "    </tr>\n",
              "  </thead>\n",
              "  <tbody>\n",
              "    <tr>\n",
              "      <th>fusion_combination</th>\n",
              "      <td>37.975356</td>\n",
              "    </tr>\n",
              "    <tr>\n",
              "      <th>abs_combinationXY</th>\n",
              "      <td>0.000127</td>\n",
              "    </tr>\n",
              "  </tbody>\n",
              "</table>\n",
              "</div>"
            ],
            "text/plain": [
              "                    fusion Estimate\n",
              "fusion_combination        37.975356\n",
              "abs_combinationXY          0.000127"
            ]
          },
          "metadata": {
            "tags": []
          },
          "execution_count": 139
        }
      ]
    },
    {
      "cell_type": "code",
      "metadata": {
        "id": "-DS7QmHvJ2WV",
        "colab_type": "code",
        "colab": {
          "base_uri": "https://localhost:8080/",
          "height": 173
        },
        "outputId": "0c3271d9-82a3-4e49-d468-6e0f8cf1d158"
      },
      "source": [
        "result = pd.DataFrame([(Local_meanx, Local_meany, central_mean, fusion_mean), (Local_meanx1, Local_meany1, central_meanXY, fusion_meanXY), (Local_medianx, Local_mediany, central_median, fusion_median), (Local_medianx1, Local_mediany1, central_medianXY ,fusion_medianXY)], index=['local xi','local yi', 'centralized Estimate', 'fusion Estimate'], columns=['Mean', 'abs_mean%', 'Median', 'abs_median%'])\n",
        "result"
      ],
      "execution_count": 137,
      "outputs": [
        {
          "output_type": "execute_result",
          "data": {
            "text/html": [
              "<div>\n",
              "<style scoped>\n",
              "    .dataframe tbody tr th:only-of-type {\n",
              "        vertical-align: middle;\n",
              "    }\n",
              "\n",
              "    .dataframe tbody tr th {\n",
              "        vertical-align: top;\n",
              "    }\n",
              "\n",
              "    .dataframe thead th {\n",
              "        text-align: right;\n",
              "    }\n",
              "</style>\n",
              "<table border=\"1\" class=\"dataframe\">\n",
              "  <thead>\n",
              "    <tr style=\"text-align: right;\">\n",
              "      <th></th>\n",
              "      <th>Mean</th>\n",
              "      <th>abs_mean%</th>\n",
              "      <th>Median</th>\n",
              "      <th>abs_median%</th>\n",
              "    </tr>\n",
              "  </thead>\n",
              "  <tbody>\n",
              "    <tr>\n",
              "      <th>local xi</th>\n",
              "      <td>37.994836</td>\n",
              "      <td>37.949842</td>\n",
              "      <td>37.972339</td>\n",
              "      <td>37.979838</td>\n",
              "    </tr>\n",
              "    <tr>\n",
              "      <th>local yi</th>\n",
              "      <td>0.000132</td>\n",
              "      <td>0.000120</td>\n",
              "      <td>0.000126</td>\n",
              "      <td>0.000128</td>\n",
              "    </tr>\n",
              "    <tr>\n",
              "      <th>centralized Estimate</th>\n",
              "      <td>37.880345</td>\n",
              "      <td>37.936394</td>\n",
              "      <td>37.908369</td>\n",
              "      <td>37.899028</td>\n",
              "    </tr>\n",
              "    <tr>\n",
              "      <th>fusion Estimate</th>\n",
              "      <td>0.000101</td>\n",
              "      <td>0.000116</td>\n",
              "      <td>0.000109</td>\n",
              "      <td>0.000106</td>\n",
              "    </tr>\n",
              "  </tbody>\n",
              "</table>\n",
              "</div>"
            ],
            "text/plain": [
              "                           Mean  abs_mean%     Median  abs_median%\n",
              "local xi              37.994836  37.949842  37.972339    37.979838\n",
              "local yi               0.000132   0.000120   0.000126     0.000128\n",
              "centralized Estimate  37.880345  37.936394  37.908369    37.899028\n",
              "fusion Estimate        0.000101   0.000116   0.000109     0.000106"
            ]
          },
          "metadata": {
            "tags": []
          },
          "execution_count": 137
        }
      ]
    }
  ]
}