{
  "nbformat": 4,
  "nbformat_minor": 0,
  "metadata": {
    "colab": {
      "name": "Population_MlpBusari.ipynb",
      "provenance": [],
      "include_colab_link": true
    },
    "kernelspec": {
      "name": "python3",
      "display_name": "Python 3"
    }
  },
  "cells": [
    {
      "cell_type": "markdown",
      "metadata": {
        "id": "view-in-github",
        "colab_type": "text"
      },
      "source": [
        "<a href=\"https://colab.research.google.com/github/AbuNuurah/Ede-indigenous-man/blob/master/Population_MlpBusari.ipynb\" target=\"_parent\"><img src=\"https://colab.research.google.com/assets/colab-badge.svg\" alt=\"Open In Colab\"/></a>"
      ]
    },
    {
      "cell_type": "code",
      "metadata": {
        "id": "O1kEfFL-hIU6",
        "colab_type": "code",
        "outputId": "8b6a0ab5-edaa-4652-c1d0-ffdaf3901a62",
        "colab": {
          "base_uri": "https://localhost:8080/",
          "height": 81
        }
      },
      "source": [
        "import pandas as pd\n",
        "import numpy as np\n",
        "from numpy import array\n",
        "from keras.layers.core import Dense, Activation, Dropout\n",
        "from keras.models import Sequential\n",
        "import time\n",
        "from sklearn.metrics import mean_absolute_error\n",
        "from matplotlib import pyplot\n",
        "from sklearn.preprocessing import MinMaxScaler\n",
        "from sklearn.preprocessing import StandardScaler\n",
        "import matplotlib.pyplot as plt"
      ],
      "execution_count": 0,
      "outputs": [
        {
          "output_type": "stream",
          "text": [
            "Using TensorFlow backend.\n"
          ],
          "name": "stderr"
        },
        {
          "output_type": "display_data",
          "data": {
            "text/html": [
              "<p style=\"color: red;\">\n",
              "The default version of TensorFlow in Colab will soon switch to TensorFlow 2.x.<br>\n",
              "We recommend you <a href=\"https://www.tensorflow.org/guide/migrate\" target=\"_blank\">upgrade</a> now \n",
              "or ensure your notebook will continue to use TensorFlow 1.x via the <code>%tensorflow_version 1.x</code> magic:\n",
              "<a href=\"https://colab.research.google.com/notebooks/tensorflow_version.ipynb\" target=\"_blank\">more info</a>.</p>\n"
            ],
            "text/plain": [
              "<IPython.core.display.HTML object>"
            ]
          },
          "metadata": {
            "tags": []
          }
        }
      ]
    },
    {
      "cell_type": "code",
      "metadata": {
        "id": "ZNliL8Onhbkr",
        "colab_type": "code",
        "colab": {}
      },
      "source": [
        "series = pd.read_csv('Population.csv', header=0 )"
      ],
      "execution_count": 0,
      "outputs": []
    },
    {
      "cell_type": "code",
      "metadata": {
        "id": "C6Q6XVLa-6ce",
        "colab_type": "code",
        "outputId": "33b8470d-9f24-40c9-9ea4-1e554b27d9a0",
        "colab": {
          "base_uri": "https://localhost:8080/",
          "height": 161
        }
      },
      "source": [
        "series.columns"
      ],
      "execution_count": 0,
      "outputs": [
        {
          "output_type": "execute_result",
          "data": {
            "text/plain": [
              "Index(['Date', 'Urban population (% of total population)', 'Urban population',\n",
              "       'Urban population growth (annual %)',\n",
              "       'Rural population (% of total population)',\n",
              "       'Rural population growth (annual %)', 'Rural population',\n",
              "       'Population, male (% of total population)', 'Population, male',\n",
              "       'Population, female (% of total population)', 'Population, female',\n",
              "       'Population, total', 'Population growth (annual %)'],\n",
              "      dtype='object')"
            ]
          },
          "metadata": {
            "tags": []
          },
          "execution_count": 181
        }
      ]
    },
    {
      "cell_type": "code",
      "metadata": {
        "id": "qRM_kuO2-9Xq",
        "colab_type": "code",
        "colab": {}
      },
      "source": [
        "series.columns = ['Date','UP%','UP','UPG','RP%','RPG','RP','PM%','PM','PF%','PF','PT','PGA%']"
      ],
      "execution_count": 0,
      "outputs": []
    },
    {
      "cell_type": "code",
      "metadata": {
        "id": "7hyGOUvlhfki",
        "colab_type": "code",
        "outputId": "69034213-1e03-4694-de18-ea980bc4166a",
        "colab": {
          "base_uri": "https://localhost:8080/",
          "height": 204
        }
      },
      "source": [
        "series.head()"
      ],
      "execution_count": 0,
      "outputs": [
        {
          "output_type": "execute_result",
          "data": {
            "text/html": [
              "<div>\n",
              "<style scoped>\n",
              "    .dataframe tbody tr th:only-of-type {\n",
              "        vertical-align: middle;\n",
              "    }\n",
              "\n",
              "    .dataframe tbody tr th {\n",
              "        vertical-align: top;\n",
              "    }\n",
              "\n",
              "    .dataframe thead th {\n",
              "        text-align: right;\n",
              "    }\n",
              "</style>\n",
              "<table border=\"1\" class=\"dataframe\">\n",
              "  <thead>\n",
              "    <tr style=\"text-align: right;\">\n",
              "      <th></th>\n",
              "      <th>Date</th>\n",
              "      <th>UP%</th>\n",
              "      <th>UP</th>\n",
              "      <th>UPG</th>\n",
              "      <th>RP%</th>\n",
              "      <th>RPG</th>\n",
              "      <th>RP</th>\n",
              "      <th>PM%</th>\n",
              "      <th>PM</th>\n",
              "      <th>PF%</th>\n",
              "      <th>PF</th>\n",
              "      <th>PT</th>\n",
              "      <th>PGA%</th>\n",
              "    </tr>\n",
              "  </thead>\n",
              "  <tbody>\n",
              "    <tr>\n",
              "      <th>0</th>\n",
              "      <td>1960</td>\n",
              "      <td>15.410</td>\n",
              "      <td>6955836</td>\n",
              "      <td>6.815307</td>\n",
              "      <td>84.590</td>\n",
              "      <td>1.118942</td>\n",
              "      <td>38182622</td>\n",
              "      <td>49.914966</td>\n",
              "      <td>22530846</td>\n",
              "      <td>50.085034</td>\n",
              "      <td>22607612</td>\n",
              "      <td>45138458</td>\n",
              "      <td>1.975879</td>\n",
              "    </tr>\n",
              "    <tr>\n",
              "      <th>1</th>\n",
              "      <td>1961</td>\n",
              "      <td>15.633</td>\n",
              "      <td>7201117</td>\n",
              "      <td>3.465513</td>\n",
              "      <td>84.367</td>\n",
              "      <td>1.764790</td>\n",
              "      <td>38862446</td>\n",
              "      <td>49.922674</td>\n",
              "      <td>22996163</td>\n",
              "      <td>50.077326</td>\n",
              "      <td>23067400</td>\n",
              "      <td>46063563</td>\n",
              "      <td>2.028764</td>\n",
              "    </tr>\n",
              "    <tr>\n",
              "      <th>2</th>\n",
              "      <td>1962</td>\n",
              "      <td>15.858</td>\n",
              "      <td>7457989</td>\n",
              "      <td>3.504965</td>\n",
              "      <td>84.142</td>\n",
              "      <td>1.808919</td>\n",
              "      <td>39571833</td>\n",
              "      <td>49.931301</td>\n",
              "      <td>23482602</td>\n",
              "      <td>50.068699</td>\n",
              "      <td>23547220</td>\n",
              "      <td>47029822</td>\n",
              "      <td>2.075966</td>\n",
              "    </tr>\n",
              "    <tr>\n",
              "      <th>3</th>\n",
              "      <td>1963</td>\n",
              "      <td>16.087</td>\n",
              "      <td>7727058</td>\n",
              "      <td>3.544239</td>\n",
              "      <td>83.913</td>\n",
              "      <td>1.837969</td>\n",
              "      <td>40305876</td>\n",
              "      <td>49.940460</td>\n",
              "      <td>23987868</td>\n",
              "      <td>50.059540</td>\n",
              "      <td>24045066</td>\n",
              "      <td>48032934</td>\n",
              "      <td>2.110499</td>\n",
              "    </tr>\n",
              "    <tr>\n",
              "      <th>4</th>\n",
              "      <td>1964</td>\n",
              "      <td>16.318</td>\n",
              "      <td>8006714</td>\n",
              "      <td>3.555224</td>\n",
              "      <td>83.682</td>\n",
              "      <td>1.853827</td>\n",
              "      <td>41060046</td>\n",
              "      <td>49.949726</td>\n",
              "      <td>24508712</td>\n",
              "      <td>50.050274</td>\n",
              "      <td>24558048</td>\n",
              "      <td>49066760</td>\n",
              "      <td>2.129492</td>\n",
              "    </tr>\n",
              "  </tbody>\n",
              "</table>\n",
              "</div>"
            ],
            "text/plain": [
              "   Date     UP%       UP       UPG  ...        PF%        PF        PT      PGA%\n",
              "0  1960  15.410  6955836  6.815307  ...  50.085034  22607612  45138458  1.975879\n",
              "1  1961  15.633  7201117  3.465513  ...  50.077326  23067400  46063563  2.028764\n",
              "2  1962  15.858  7457989  3.504965  ...  50.068699  23547220  47029822  2.075966\n",
              "3  1963  16.087  7727058  3.544239  ...  50.059540  24045066  48032934  2.110499\n",
              "4  1964  16.318  8006714  3.555224  ...  50.050274  24558048  49066760  2.129492\n",
              "\n",
              "[5 rows x 13 columns]"
            ]
          },
          "metadata": {
            "tags": []
          },
          "execution_count": 183
        }
      ]
    },
    {
      "cell_type": "code",
      "metadata": {
        "id": "rCoAHDu-_haW",
        "colab_type": "code",
        "outputId": "f0f90e85-8295-4ac0-fb71-32028f177c6a",
        "colab": {
          "base_uri": "https://localhost:8080/",
          "height": 297
        }
      },
      "source": [
        "series.describe()"
      ],
      "execution_count": 0,
      "outputs": [
        {
          "output_type": "execute_result",
          "data": {
            "text/html": [
              "<div>\n",
              "<style scoped>\n",
              "    .dataframe tbody tr th:only-of-type {\n",
              "        vertical-align: middle;\n",
              "    }\n",
              "\n",
              "    .dataframe tbody tr th {\n",
              "        vertical-align: top;\n",
              "    }\n",
              "\n",
              "    .dataframe thead th {\n",
              "        text-align: right;\n",
              "    }\n",
              "</style>\n",
              "<table border=\"1\" class=\"dataframe\">\n",
              "  <thead>\n",
              "    <tr style=\"text-align: right;\">\n",
              "      <th></th>\n",
              "      <th>Date</th>\n",
              "      <th>UP%</th>\n",
              "      <th>UP</th>\n",
              "      <th>UPG</th>\n",
              "      <th>RP%</th>\n",
              "      <th>RPG</th>\n",
              "      <th>RP</th>\n",
              "      <th>PM%</th>\n",
              "      <th>PM</th>\n",
              "      <th>PF%</th>\n",
              "      <th>PF</th>\n",
              "      <th>PT</th>\n",
              "      <th>PGA%</th>\n",
              "    </tr>\n",
              "  </thead>\n",
              "  <tbody>\n",
              "    <tr>\n",
              "      <th>count</th>\n",
              "      <td>59.000000</td>\n",
              "      <td>59.000000</td>\n",
              "      <td>5.900000e+01</td>\n",
              "      <td>59.000000</td>\n",
              "      <td>59.000000</td>\n",
              "      <td>59.000000</td>\n",
              "      <td>5.900000e+01</td>\n",
              "      <td>59.000000</td>\n",
              "      <td>5.900000e+01</td>\n",
              "      <td>59.000000</td>\n",
              "      <td>5.900000e+01</td>\n",
              "      <td>5.900000e+01</td>\n",
              "      <td>59.000000</td>\n",
              "    </tr>\n",
              "    <tr>\n",
              "      <th>mean</th>\n",
              "      <td>1989.000000</td>\n",
              "      <td>29.534441</td>\n",
              "      <td>3.463558e+07</td>\n",
              "      <td>4.609757</td>\n",
              "      <td>70.465559</td>\n",
              "      <td>1.603785</td>\n",
              "      <td>6.689331e+07</td>\n",
              "      <td>50.289259</td>\n",
              "      <td>5.115449e+07</td>\n",
              "      <td>49.710741</td>\n",
              "      <td>5.037440e+07</td>\n",
              "      <td>1.015289e+08</td>\n",
              "      <td>2.521186</td>\n",
              "    </tr>\n",
              "    <tr>\n",
              "      <th>std</th>\n",
              "      <td>17.175564</td>\n",
              "      <td>10.745748</td>\n",
              "      <td>2.634755e+07</td>\n",
              "      <td>0.720013</td>\n",
              "      <td>10.745748</td>\n",
              "      <td>0.411253</td>\n",
              "      <td>1.834157e+07</td>\n",
              "      <td>0.229339</td>\n",
              "      <td>2.245890e+07</td>\n",
              "      <td>0.229339</td>\n",
              "      <td>2.168540e+07</td>\n",
              "      <td>4.414421e+07</td>\n",
              "      <td>0.229124</td>\n",
              "    </tr>\n",
              "    <tr>\n",
              "      <th>min</th>\n",
              "      <td>1960.000000</td>\n",
              "      <td>15.410000</td>\n",
              "      <td>6.955836e+06</td>\n",
              "      <td>3.465513</td>\n",
              "      <td>49.656000</td>\n",
              "      <td>0.938766</td>\n",
              "      <td>3.818262e+07</td>\n",
              "      <td>49.914966</td>\n",
              "      <td>2.253085e+07</td>\n",
              "      <td>49.336114</td>\n",
              "      <td>2.260761e+07</td>\n",
              "      <td>4.513846e+07</td>\n",
              "      <td>1.975879</td>\n",
              "    </tr>\n",
              "    <tr>\n",
              "      <th>25%</th>\n",
              "      <td>1974.500000</td>\n",
              "      <td>19.571500</td>\n",
              "      <td>1.223899e+07</td>\n",
              "      <td>4.094746</td>\n",
              "      <td>62.216000</td>\n",
              "      <td>1.182281</td>\n",
              "      <td>5.028674e+07</td>\n",
              "      <td>50.060220</td>\n",
              "      <td>3.130064e+07</td>\n",
              "      <td>49.529045</td>\n",
              "      <td>3.122510e+07</td>\n",
              "      <td>6.252574e+07</td>\n",
              "      <td>2.488851</td>\n",
              "    </tr>\n",
              "    <tr>\n",
              "      <th>50%</th>\n",
              "      <td>1989.000000</td>\n",
              "      <td>28.842000</td>\n",
              "      <td>2.676192e+07</td>\n",
              "      <td>4.644999</td>\n",
              "      <td>71.158000</td>\n",
              "      <td>1.691337</td>\n",
              "      <td>6.602610e+07</td>\n",
              "      <td>50.294687</td>\n",
              "      <td>4.666745e+07</td>\n",
              "      <td>49.705313</td>\n",
              "      <td>4.612058e+07</td>\n",
              "      <td>9.278803e+07</td>\n",
              "      <td>2.559662</td>\n",
              "    </tr>\n",
              "    <tr>\n",
              "      <th>75%</th>\n",
              "      <td>2003.500000</td>\n",
              "      <td>37.784000</td>\n",
              "      <td>5.049072e+07</td>\n",
              "      <td>4.963414</td>\n",
              "      <td>80.428500</td>\n",
              "      <td>1.857319</td>\n",
              "      <td>8.311981e+07</td>\n",
              "      <td>50.470955</td>\n",
              "      <td>6.743465e+07</td>\n",
              "      <td>49.939780</td>\n",
              "      <td>6.617588e+07</td>\n",
              "      <td>1.336105e+08</td>\n",
              "      <td>2.639796</td>\n",
              "    </tr>\n",
              "    <tr>\n",
              "      <th>max</th>\n",
              "      <td>2018.000000</td>\n",
              "      <td>50.344000</td>\n",
              "      <td>9.861118e+07</td>\n",
              "      <td>6.815307</td>\n",
              "      <td>84.590000</td>\n",
              "      <td>2.478562</td>\n",
              "      <td>9.726356e+07</td>\n",
              "      <td>50.663886</td>\n",
              "      <td>9.923776e+07</td>\n",
              "      <td>50.085034</td>\n",
              "      <td>9.663698e+07</td>\n",
              "      <td>1.958747e+08</td>\n",
              "      <td>3.031979</td>\n",
              "    </tr>\n",
              "  </tbody>\n",
              "</table>\n",
              "</div>"
            ],
            "text/plain": [
              "              Date        UP%  ...            PT       PGA%\n",
              "count    59.000000  59.000000  ...  5.900000e+01  59.000000\n",
              "mean   1989.000000  29.534441  ...  1.015289e+08   2.521186\n",
              "std      17.175564  10.745748  ...  4.414421e+07   0.229124\n",
              "min    1960.000000  15.410000  ...  4.513846e+07   1.975879\n",
              "25%    1974.500000  19.571500  ...  6.252574e+07   2.488851\n",
              "50%    1989.000000  28.842000  ...  9.278803e+07   2.559662\n",
              "75%    2003.500000  37.784000  ...  1.336105e+08   2.639796\n",
              "max    2018.000000  50.344000  ...  1.958747e+08   3.031979\n",
              "\n",
              "[8 rows x 13 columns]"
            ]
          },
          "metadata": {
            "tags": []
          },
          "execution_count": 184
        }
      ]
    },
    {
      "cell_type": "code",
      "metadata": {
        "id": "EEGK7y1FhoLJ",
        "colab_type": "code",
        "outputId": "2afa0a85-941e-4179-8ddf-95ad457fcb88",
        "colab": {
          "base_uri": "https://localhost:8080/",
          "height": 125
        }
      },
      "source": [
        "srs = series['PGA%']\n",
        "srs.head()"
      ],
      "execution_count": 0,
      "outputs": [
        {
          "output_type": "execute_result",
          "data": {
            "text/plain": [
              "0    1.975879\n",
              "1    2.028764\n",
              "2    2.075966\n",
              "3    2.110499\n",
              "4    2.129492\n",
              "Name: PGA%, dtype: float64"
            ]
          },
          "metadata": {
            "tags": []
          },
          "execution_count": 185
        }
      ]
    },
    {
      "cell_type": "code",
      "metadata": {
        "id": "maE6Ubo8_q22",
        "colab_type": "code",
        "outputId": "af3a0909-1b89-497e-e9c1-0f91f4ea7bba",
        "colab": {
          "base_uri": "https://localhost:8080/",
          "height": 35
        }
      },
      "source": [
        "type(srs)"
      ],
      "execution_count": 0,
      "outputs": [
        {
          "output_type": "execute_result",
          "data": {
            "text/plain": [
              "pandas.core.series.Series"
            ]
          },
          "metadata": {
            "tags": []
          },
          "execution_count": 186
        }
      ]
    },
    {
      "cell_type": "code",
      "metadata": {
        "id": "g3k9d3coAdjY",
        "colab_type": "code",
        "colab": {}
      },
      "source": [
        "srs = np.array(srs).reshape((-1, 1))"
      ],
      "execution_count": 0,
      "outputs": []
    },
    {
      "cell_type": "code",
      "metadata": {
        "id": "bx6KI9q_AlXd",
        "colab_type": "code",
        "outputId": "dd1731c1-e668-4288-a369-bb071f31d475",
        "colab": {
          "base_uri": "https://localhost:8080/",
          "height": 1000
        }
      },
      "source": [
        "from sklearn import preprocessing\n",
        "# normalize features - \n",
        "\n",
        "# Create the Scaler object\n",
        "#scaler = preprocessing.StandardScaler()\n",
        "# Fit your data on the scaler object\n",
        "#srs['std_Pop'] = scaler.fit_transform(srs[1])\n",
        "print(srs)\n",
        "\n",
        "scaler = MinMaxScaler(feature_range=(-1, 1))\n",
        "scaled = scaler.fit_transform(srs)\n",
        "srs = pd.DataFrame(scaled)"
      ],
      "execution_count": 0,
      "outputs": [
        {
          "output_type": "stream",
          "text": [
            "[[1.97587942]\n",
            " [2.02876366]\n",
            " [2.07596641]\n",
            " [2.11049895]\n",
            " [2.12949192]\n",
            " [2.13963384]\n",
            " [2.15123474]\n",
            " [2.17130539]\n",
            " [2.19939007]\n",
            " [2.23776997]\n",
            " [2.28576227]\n",
            " [2.32151869]\n",
            " [2.36091003]\n",
            " [2.43960865]\n",
            " [2.56608034]\n",
            " [2.71444252]\n",
            " [2.87289137]\n",
            " [2.99324954]\n",
            " [3.03197919]\n",
            " [2.97137514]\n",
            " [2.84925219]\n",
            " [2.70984333]\n",
            " [2.59983162]\n",
            " [2.53426438]\n",
            " [2.52887969]\n",
            " [2.5624216 ]\n",
            " [2.60290443]\n",
            " [2.6255174 ]\n",
            " [2.63094703]\n",
            " [2.6125658 ]\n",
            " [2.57930985]\n",
            " [2.54594937]\n",
            " [2.52157756]\n",
            " [2.5033469 ]\n",
            " [2.49341393]\n",
            " [2.48991447]\n",
            " [2.48891699]\n",
            " [2.48878512]\n",
            " [2.49131878]\n",
            " [2.496357  ]\n",
            " [2.50384697]\n",
            " [2.51161654]\n",
            " [2.52151511]\n",
            " [2.53725455]\n",
            " [2.55966188]\n",
            " [2.58568909]\n",
            " [2.61084383]\n",
            " [2.63217326]\n",
            " [2.64986429]\n",
            " [2.66291669]\n",
            " [2.67144293]\n",
            " [2.67788383]\n",
            " [2.68091356]\n",
            " [2.67690033]\n",
            " [2.66501917]\n",
            " [2.6474192 ]\n",
            " [2.62770266]\n",
            " [2.60767639]\n",
            " [2.58654585]]\n"
          ],
          "name": "stdout"
        }
      ]
    },
    {
      "cell_type": "code",
      "metadata": {
        "id": "s7WmhHsCAGnt",
        "colab_type": "code",
        "colab": {}
      },
      "source": [
        "# Fix the moving window size to be 5\n",
        "window_size = 5\n",
        "\n",
        "srs_s = srs.copy()\n",
        "for i in range(window_size):\n",
        "    srs = pd.concat([srs, srs_s.shift(-(i+1))], axis = 1)\n",
        " # I dropped all the rows that contain the Nan values in the code snippet.   \n",
        "srs.dropna(axis=0, inplace=True)"
      ],
      "execution_count": 0,
      "outputs": []
    },
    {
      "cell_type": "code",
      "metadata": {
        "id": "yBThErhaAKft",
        "colab_type": "code",
        "outputId": "98fa69af-3d72-4716-b9ff-8667c60b8fb0",
        "colab": {
          "base_uri": "https://localhost:8080/",
          "height": 204
        }
      },
      "source": [
        "srs.head()"
      ],
      "execution_count": 0,
      "outputs": [
        {
          "output_type": "execute_result",
          "data": {
            "text/html": [
              "<div>\n",
              "<style scoped>\n",
              "    .dataframe tbody tr th:only-of-type {\n",
              "        vertical-align: middle;\n",
              "    }\n",
              "\n",
              "    .dataframe tbody tr th {\n",
              "        vertical-align: top;\n",
              "    }\n",
              "\n",
              "    .dataframe thead th {\n",
              "        text-align: right;\n",
              "    }\n",
              "</style>\n",
              "<table border=\"1\" class=\"dataframe\">\n",
              "  <thead>\n",
              "    <tr style=\"text-align: right;\">\n",
              "      <th></th>\n",
              "      <th>0</th>\n",
              "      <th>0</th>\n",
              "      <th>0</th>\n",
              "      <th>0</th>\n",
              "      <th>0</th>\n",
              "      <th>0</th>\n",
              "    </tr>\n",
              "  </thead>\n",
              "  <tbody>\n",
              "    <tr>\n",
              "      <th>0</th>\n",
              "      <td>-1.000000</td>\n",
              "      <td>-0.899850</td>\n",
              "      <td>-0.810459</td>\n",
              "      <td>-0.745063</td>\n",
              "      <td>-0.709095</td>\n",
              "      <td>-0.689888</td>\n",
              "    </tr>\n",
              "    <tr>\n",
              "      <th>1</th>\n",
              "      <td>-0.899850</td>\n",
              "      <td>-0.810459</td>\n",
              "      <td>-0.745063</td>\n",
              "      <td>-0.709095</td>\n",
              "      <td>-0.689888</td>\n",
              "      <td>-0.667919</td>\n",
              "    </tr>\n",
              "    <tr>\n",
              "      <th>2</th>\n",
              "      <td>-0.810459</td>\n",
              "      <td>-0.745063</td>\n",
              "      <td>-0.709095</td>\n",
              "      <td>-0.689888</td>\n",
              "      <td>-0.667919</td>\n",
              "      <td>-0.629910</td>\n",
              "    </tr>\n",
              "    <tr>\n",
              "      <th>3</th>\n",
              "      <td>-0.745063</td>\n",
              "      <td>-0.709095</td>\n",
              "      <td>-0.689888</td>\n",
              "      <td>-0.667919</td>\n",
              "      <td>-0.629910</td>\n",
              "      <td>-0.576724</td>\n",
              "    </tr>\n",
              "    <tr>\n",
              "      <th>4</th>\n",
              "      <td>-0.709095</td>\n",
              "      <td>-0.689888</td>\n",
              "      <td>-0.667919</td>\n",
              "      <td>-0.629910</td>\n",
              "      <td>-0.576724</td>\n",
              "      <td>-0.504042</td>\n",
              "    </tr>\n",
              "  </tbody>\n",
              "</table>\n",
              "</div>"
            ],
            "text/plain": [
              "          0         0         0         0         0         0\n",
              "0 -1.000000 -0.899850 -0.810459 -0.745063 -0.709095 -0.689888\n",
              "1 -0.899850 -0.810459 -0.745063 -0.709095 -0.689888 -0.667919\n",
              "2 -0.810459 -0.745063 -0.709095 -0.689888 -0.667919 -0.629910\n",
              "3 -0.745063 -0.709095 -0.689888 -0.667919 -0.629910 -0.576724\n",
              "4 -0.709095 -0.689888 -0.667919 -0.629910 -0.576724 -0.504042"
            ]
          },
          "metadata": {
            "tags": []
          },
          "execution_count": 190
        }
      ]
    },
    {
      "cell_type": "code",
      "metadata": {
        "id": "XRBsUbe_Asl-",
        "colab_type": "code",
        "colab": {}
      },
      "source": [
        "srs.columns = ['x1', 'x2', 'x3', 'x4', 'x5', 'y']"
      ],
      "execution_count": 0,
      "outputs": []
    },
    {
      "cell_type": "code",
      "metadata": {
        "id": "t4g1PLCuAu9W",
        "colab_type": "code",
        "outputId": "69d325e4-e6d0-426f-9d29-ac4efc42ad57",
        "colab": {
          "base_uri": "https://localhost:8080/",
          "height": 204
        }
      },
      "source": [
        "srs.head()"
      ],
      "execution_count": 0,
      "outputs": [
        {
          "output_type": "execute_result",
          "data": {
            "text/html": [
              "<div>\n",
              "<style scoped>\n",
              "    .dataframe tbody tr th:only-of-type {\n",
              "        vertical-align: middle;\n",
              "    }\n",
              "\n",
              "    .dataframe tbody tr th {\n",
              "        vertical-align: top;\n",
              "    }\n",
              "\n",
              "    .dataframe thead th {\n",
              "        text-align: right;\n",
              "    }\n",
              "</style>\n",
              "<table border=\"1\" class=\"dataframe\">\n",
              "  <thead>\n",
              "    <tr style=\"text-align: right;\">\n",
              "      <th></th>\n",
              "      <th>x1</th>\n",
              "      <th>x2</th>\n",
              "      <th>x3</th>\n",
              "      <th>x4</th>\n",
              "      <th>x5</th>\n",
              "      <th>y</th>\n",
              "    </tr>\n",
              "  </thead>\n",
              "  <tbody>\n",
              "    <tr>\n",
              "      <th>0</th>\n",
              "      <td>-1.000000</td>\n",
              "      <td>-0.899850</td>\n",
              "      <td>-0.810459</td>\n",
              "      <td>-0.745063</td>\n",
              "      <td>-0.709095</td>\n",
              "      <td>-0.689888</td>\n",
              "    </tr>\n",
              "    <tr>\n",
              "      <th>1</th>\n",
              "      <td>-0.899850</td>\n",
              "      <td>-0.810459</td>\n",
              "      <td>-0.745063</td>\n",
              "      <td>-0.709095</td>\n",
              "      <td>-0.689888</td>\n",
              "      <td>-0.667919</td>\n",
              "    </tr>\n",
              "    <tr>\n",
              "      <th>2</th>\n",
              "      <td>-0.810459</td>\n",
              "      <td>-0.745063</td>\n",
              "      <td>-0.709095</td>\n",
              "      <td>-0.689888</td>\n",
              "      <td>-0.667919</td>\n",
              "      <td>-0.629910</td>\n",
              "    </tr>\n",
              "    <tr>\n",
              "      <th>3</th>\n",
              "      <td>-0.745063</td>\n",
              "      <td>-0.709095</td>\n",
              "      <td>-0.689888</td>\n",
              "      <td>-0.667919</td>\n",
              "      <td>-0.629910</td>\n",
              "      <td>-0.576724</td>\n",
              "    </tr>\n",
              "    <tr>\n",
              "      <th>4</th>\n",
              "      <td>-0.709095</td>\n",
              "      <td>-0.689888</td>\n",
              "      <td>-0.667919</td>\n",
              "      <td>-0.629910</td>\n",
              "      <td>-0.576724</td>\n",
              "      <td>-0.504042</td>\n",
              "    </tr>\n",
              "  </tbody>\n",
              "</table>\n",
              "</div>"
            ],
            "text/plain": [
              "         x1        x2        x3        x4        x5         y\n",
              "0 -1.000000 -0.899850 -0.810459 -0.745063 -0.709095 -0.689888\n",
              "1 -0.899850 -0.810459 -0.745063 -0.709095 -0.689888 -0.667919\n",
              "2 -0.810459 -0.745063 -0.709095 -0.689888 -0.667919 -0.629910\n",
              "3 -0.745063 -0.709095 -0.689888 -0.667919 -0.629910 -0.576724\n",
              "4 -0.709095 -0.689888 -0.667919 -0.629910 -0.576724 -0.504042"
            ]
          },
          "metadata": {
            "tags": []
          },
          "execution_count": 192
        }
      ]
    },
    {
      "cell_type": "code",
      "metadata": {
        "id": "NMDPyC3ABrGQ",
        "colab_type": "code",
        "colab": {}
      },
      "source": [
        "X = srs.iloc[:,:-1].values\n",
        "y = srs.iloc[:,-1].values"
      ],
      "execution_count": 0,
      "outputs": []
    },
    {
      "cell_type": "code",
      "metadata": {
        "id": "grNGflayBuLH",
        "colab_type": "code",
        "colab": {}
      },
      "source": [
        "from sklearn.model_selection import train_test_split  \n",
        "X_train, X_test, y_train, y_test = train_test_split(X, y, test_size = 0.25) "
      ],
      "execution_count": 0,
      "outputs": []
    },
    {
      "cell_type": "code",
      "metadata": {
        "id": "2zAtA5JoCEdh",
        "colab_type": "code",
        "colab": {}
      },
      "source": [
        "# define model\n",
        "model = Sequential()\n",
        "model.add(Dense(100, activation='relu'))\n",
        "model.add(Dense(1))\n",
        "model.compile(optimizer='adam', loss='mse')"
      ],
      "execution_count": 0,
      "outputs": []
    },
    {
      "cell_type": "code",
      "metadata": {
        "id": "4ELnDLooCZdu",
        "colab_type": "code",
        "outputId": "570e0acc-c3c5-4c1e-b8c4-0494400f4a6b",
        "colab": {
          "base_uri": "https://localhost:8080/",
          "height": 35
        }
      },
      "source": [
        "# fit model\n",
        "model.fit(X_train, y_train, epochs=2000, verbose=0)"
      ],
      "execution_count": 0,
      "outputs": [
        {
          "output_type": "execute_result",
          "data": {
            "text/plain": [
              "<keras.callbacks.History at 0x7f83ebe1e400>"
            ]
          },
          "metadata": {
            "tags": []
          },
          "execution_count": 196
        }
      ]
    },
    {
      "cell_type": "code",
      "metadata": {
        "id": "4MySHkLAC4rS",
        "colab_type": "code",
        "colab": {}
      },
      "source": [
        "# Doing a prediction on all the test data at once\n",
        "preds = model.predict(X_test)"
      ],
      "execution_count": 0,
      "outputs": []
    },
    {
      "cell_type": "code",
      "metadata": {
        "id": "HQEi8cweDCq9",
        "colab_type": "code",
        "colab": {}
      },
      "source": [
        "#preds = scaler.inverse_transform(preds)"
      ],
      "execution_count": 0,
      "outputs": []
    },
    {
      "cell_type": "code",
      "metadata": {
        "id": "PqR9PS1lDG9B",
        "colab_type": "code",
        "colab": {}
      },
      "source": [
        "#actuals = scaler.inverse_transform([y_test])\n",
        "#actuals = test_y"
      ],
      "execution_count": 0,
      "outputs": []
    },
    {
      "cell_type": "code",
      "metadata": {
        "id": "pSkHUdwsDPun",
        "colab_type": "code",
        "colab": {}
      },
      "source": [
        "from sklearn.metrics import accuracy_score\n",
        "forecast_errors = [y_test[i]-preds[i] for i in range(len(preds))]\n",
        "bias = sum(forecast_errors) * 1.0/len(y_test)\n",
        "mae = mean_absolute_error(y_test,preds)  \n",
        "mse = mean_squared_error(y_test,preds)\n",
        "\n",
        "rmse = np.sqrt(mse)  \n",
        "#mape = np.mean(np.abs((y_test,preds) / y_test)) * 100"
      ],
      "execution_count": 0,
      "outputs": []
    },
    {
      "cell_type": "code",
      "metadata": {
        "id": "EbIVAOamDmXG",
        "colab_type": "code",
        "outputId": "74c227d2-e805-4dd6-c053-d2a624879302",
        "colab": {
          "base_uri": "https://localhost:8080/",
          "height": 89
        }
      },
      "source": [
        "print('BIAS: %f' % bias)\n",
        "print('MAE: %f' % mae)\n",
        "print('MSE: %f' % mse)\n",
        "print('RMSE: %f' % rmse)\n",
        "#print('MAPE: %f' % mape)"
      ],
      "execution_count": 0,
      "outputs": [
        {
          "output_type": "stream",
          "text": [
            "BIAS: -0.007472\n",
            "MAE: 0.016203\n",
            "MSE: 0.000473\n",
            "RMSE: 0.021759\n"
          ],
          "name": "stdout"
        }
      ]
    },
    {
      "cell_type": "code",
      "metadata": {
        "id": "SX5mA0pYEAY5",
        "colab_type": "code",
        "outputId": "da4a45ed-d7d1-41df-c65f-a4285499a514",
        "colab": {
          "base_uri": "https://localhost:8080/",
          "height": 265
        }
      },
      "source": [
        "#6 Visualising the Multilayer Perceptrons results\n",
        "plt.plot(y_test, color = 'yellow', label = 'PGR%')\n",
        "plt.plot(preds, color = 'red', label = 'Predicted PGR%')\n",
        "plt.legend()\n",
        "pyplot.show()"
      ],
      "execution_count": 0,
      "outputs": [
        {
          "output_type": "display_data",
          "data": {
            "image/png": "[encoded data removed]",
            "text/plain": [
              "<Figure size 432x288 with 1 Axes>"
            ]
          },
          "metadata": {
            "tags": []
          }
        }
      ]
    },
    {
      "cell_type": "markdown",
      "metadata": {
        "id": "cir85trDL4kL",
        "colab_type": "text"
      },
      "source": [
        "https://scikit-learn.org/stable/modules/neural_networks_supervised.html\n",
        "\n",
        "https://scikit-learn.org/stable/modules/generated/sklearn.neural_network.MLPClassifier.html"
      ]
    },
    {
      "cell_type": "code",
      "metadata": {
        "id": "ezb3TpwpETyH",
        "colab_type": "code",
        "colab": {}
      },
      "source": [
        "from sklearn.ensemble import AdaBoostRegressor\n",
        "\n",
        "\n",
        "from sklearn.neural_network import MLPRegressor\n",
        "#Import scikit-learn metrics module for accuracy calculation\n",
        "from sklearn import metrics\n",
        "\n",
        "adab_reg = MLPRegressor(solver= 'lbfgs', alpha=0.0001, hidden_layer_sizes=(100,), random_state=None) #‘lbfgs’ is an optimizer in the family of quasi-Newton methods.\n",
        "\n",
        "# Train Adaboost Regressor\n",
        "model = adab_reg.fit(X_train, y_train)\n",
        "\n",
        "\n",
        "#Predict the response for test dataset\n",
        "#preds = model.predict(X_test)"
      ],
      "execution_count": 0,
      "outputs": []
    },
    {
      "cell_type": "code",
      "metadata": {
        "id": "gy6iCNwYI3bY",
        "colab_type": "code",
        "outputId": "e3acede0-aa54-4dd4-fae0-f4f7a462961e",
        "colab": {
          "base_uri": "https://localhost:8080/",
          "height": 143
        }
      },
      "source": [
        "MLPRegressor(activation='relu', alpha=1e-05, batch_size='auto',\n",
        "              beta_1=0.9, beta_2=0.999, early_stopping=False,\n",
        "              epsilon=1e-08, hidden_layer_sizes=(100,),\n",
        "              \n",
        "              max_iter=200, momentum=0.9, n_iter_no_change=10,\n",
        "              nesterovs_momentum=True, random_state=1,\n",
        "              shuffle=False, solver='lbfgs', tol=0.0001,\n",
        "              validation_fraction=0.1, verbose=False, warm_start=False)"
      ],
      "execution_count": 0,
      "outputs": [
        {
          "output_type": "execute_result",
          "data": {
            "text/plain": [
              "MLPRegressor(activation='relu', alpha=1e-05, batch_size='auto', beta_1=0.9,\n",
              "             beta_2=0.999, early_stopping=False, epsilon=1e-08,\n",
              "             hidden_layer_sizes=(100,), learning_rate='constant',\n",
              "             learning_rate_init=0.001, max_iter=200, momentum=0.9,\n",
              "             n_iter_no_change=10, nesterovs_momentum=True, power_t=0.5,\n",
              "             random_state=1, shuffle=False, solver='lbfgs', tol=0.0001,\n",
              "             validation_fraction=0.1, verbose=False, warm_start=False)"
            ]
          },
          "metadata": {
            "tags": []
          },
          "execution_count": 204
        }
      ]
    },
    {
      "cell_type": "code",
      "metadata": {
        "id": "L-9TFXY_LMgR",
        "colab_type": "code",
        "colab": {}
      },
      "source": [
        "preds = model.predict(X_test)"
      ],
      "execution_count": 0,
      "outputs": []
    },
    {
      "cell_type": "code",
      "metadata": {
        "id": "hU0E28FvEc0H",
        "colab_type": "code",
        "colab": {}
      },
      "source": [
        "adab_reg_actuals = y_test"
      ],
      "execution_count": 0,
      "outputs": []
    },
    {
      "cell_type": "code",
      "metadata": {
        "id": "4ZUjcXZsEflN",
        "colab_type": "code",
        "colab": {}
      },
      "source": [
        "forecast_errors = [y_test[i]-preds[i] for i in range(len(preds))]\n",
        "bias = sum(forecast_errors) * 1.0/len(y_test)\n",
        "mae = mean_absolute_error(y_test,preds)  \n",
        "mse = mean_squared_error(y_test,preds)\n",
        "mse = mean_squared_error(y_test,preds)\n",
        "rmse = np.sqrt(mse)  \n",
        "mape = np.mean(np.abs((y_test,preds) / y_test)) * 100"
      ],
      "execution_count": 0,
      "outputs": []
    },
    {
      "cell_type": "code",
      "metadata": {
        "id": "1QiwXEZaEjse",
        "colab_type": "code",
        "outputId": "936f5937-1163-4172-bc70-24766b3ada8e",
        "colab": {
          "base_uri": "https://localhost:8080/",
          "height": 107
        }
      },
      "source": [
        "print('BIAS: %f' % bias)\n",
        "print('MAE: %f' % mae)\n",
        "print('MSE: %f' % mse)\n",
        "print('RMSE: %f' % rmse)\n",
        "print('MAPE: %f' % mape)"
      ],
      "execution_count": 0,
      "outputs": [
        {
          "output_type": "stream",
          "text": [
            "BIAS: -0.002439\n",
            "MAE: 0.012995\n",
            "MSE: 0.000299\n",
            "RMSE: 0.017283\n",
            "MAPE: 101.684598\n"
          ],
          "name": "stdout"
        }
      ]
    },
    {
      "cell_type": "code",
      "metadata": {
        "id": "HiuwHcQ-El2f",
        "colab_type": "code",
        "outputId": "c34167f5-070d-4fe5-85d9-b7c43bea53a1",
        "colab": {
          "base_uri": "https://localhost:8080/",
          "height": 265
        }
      },
      "source": [
        "plt.plot(y_test, color = 'yellow', label = 'PGR%')\n",
        "plt.plot(preds, color = 'red', label = 'Predicted PGR%')\n",
        "plt.legend()\n",
        "pyplot.show()"
      ],
      "execution_count": 0,
      "outputs": [
        {
          "output_type": "display_data",
          "data": {
            "image/png": "[encoded data removed]",
            "text/plain": [
              "<Figure size 432x288 with 1 Axes>"
            ]
          },
          "metadata": {
            "tags": []
          }
        }
      ]
    }
  ]
}